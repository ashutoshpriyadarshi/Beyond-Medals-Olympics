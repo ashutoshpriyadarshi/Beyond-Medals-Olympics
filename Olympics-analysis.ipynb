{
 "cells": [
  {
   "cell_type": "markdown",
   "id": "3087a6a1",
   "metadata": {},
   "source": [
    "The ***Olympics Data Analysis Project*** aims to delve into the rich history of the Olympic Games, from their revival in **1896** to the **2016** Games.\n",
    "This project provides a detailed examination of over a century of data, uncovering trends, patterns, and insights that\n",
    " highlight the evolution of the Olympics over time."
   ]
  },
  {
   "cell_type": "markdown",
   "id": "26dc15ad",
   "metadata": {},
   "source": [
    "***Beyound Medals:A data Driven look at olympics***\n"
   ]
  },
  {
   "cell_type": "code",
   "execution_count": null,
   "id": "c90d2bc2-e299-48fd-b7a7-d260125ce968",
   "metadata": {},
   "outputs": [
    {
     "ename": "",
     "evalue": "",
     "output_type": "error",
     "traceback": [
      "\u001b[1;31mThe kernel failed to start due to the missing module 'packaging'. Consider installing this module.\n",
      "\u001b[1;31mClick <a href='https://aka.ms/kernelFailuresMissingModule'>here</a> for more info."
     ]
    }
   ],
   "source": [
    "import numpy as np\n",
    "import pandas as pd"
   ]
  },
  {
   "cell_type": "markdown",
   "id": "ef03aba5-baf7-4800-81b3-33b6cf89c6e6",
   "metadata": {},
   "source": [
    "## Importing Datasets"
   ]
  },
  {
   "cell_type": "code",
   "execution_count": 317,
   "id": "998ce57f-4497-4649-8ce5-9156211939e5",
   "metadata": {},
   "outputs": [],
   "source": [
    "df = pd.read_csv('athlete_events.csv')\n",
    "region_df = pd.read_csv('noc_regions.csv')"
   ]
  },
  {
   "cell_type": "code",
   "execution_count": null,
   "id": "dd6932e0-99d7-4fd9-903f-bba041a300e1",
   "metadata": {},
   "outputs": [],
   "source": [
    "df.head(3)"
   ]
  },
  {
   "cell_type": "code",
   "execution_count": null,
   "id": "b277219e-8e2c-4891-9549-ec3203c70953",
   "metadata": {},
   "outputs": [],
   "source": [
    "df.shape"
   ]
  },
  {
   "cell_type": "code",
   "execution_count": null,
   "id": "04947dad-d859-4a2c-8171-8d9f8884d21a",
   "metadata": {},
   "outputs": [],
   "source": [
    "\n",
    "df1 = df[df['Season'] == 'Summer']"
   ]
  },
  {
   "cell_type": "code",
   "execution_count": null,
   "id": "0ed83dac-833d-4f1f-8334-a3f215da4001",
   "metadata": {},
   "outputs": [],
   "source": [
    "df1.shape"
   ]
  },
  {
   "cell_type": "code",
   "execution_count": null,
   "id": "4992caf7-93da-4a03-ab8e-05ec15418a7c",
   "metadata": {},
   "outputs": [],
   "source": [
    "region_df.tail()"
   ]
  },
  {
   "cell_type": "markdown",
   "id": "d3bcc2b0-64b1-452c-b4b2-84677179ddb7",
   "metadata": {},
   "source": [
    "## Merging both Datasets"
   ]
  },
  {
   "cell_type": "code",
   "execution_count": 324,
   "id": "facd1495-5110-463b-b1c5-e77859b0153a",
   "metadata": {},
   "outputs": [],
   "source": [
    "df2 = df1.merge(region_df, on='NOC', how= 'left')   "
   ]
  },
  {
   "cell_type": "code",
   "execution_count": null,
   "id": "ddf6eedf-109e-4fb9-9c3d-8a1cfeed1519",
   "metadata": {},
   "outputs": [],
   "source": [
    "df2.tail()"
   ]
  },
  {
   "cell_type": "code",
   "execution_count": null,
   "id": "a0983a27-8442-444f-aa61-e950672a2936",
   "metadata": {},
   "outputs": [],
   "source": [
    "df2['region'].value_counts()"
   ]
  },
  {
   "cell_type": "code",
   "execution_count": null,
   "id": "e1504bc3-4e2f-49ab-92a1-87697c33dded",
   "metadata": {},
   "outputs": [],
   "source": [
    "df2.isnull().sum()"
   ]
  },
  {
   "cell_type": "code",
   "execution_count": null,
   "id": "4a51188e-5710-4185-b7c5-ea59139b3445",
   "metadata": {},
   "outputs": [],
   "source": [
    "df2.duplicated().sum()"
   ]
  },
  {
   "cell_type": "code",
   "execution_count": null,
   "id": "0c0a8693-2b3f-4d60-808e-190280608720",
   "metadata": {},
   "outputs": [],
   "source": [
    "df2.drop_duplicates(inplace=True)"
   ]
  },
  {
   "cell_type": "code",
   "execution_count": null,
   "id": "e6f5f9ac-2f9f-4750-ac8e-d981bc442036",
   "metadata": {},
   "outputs": [],
   "source": [
    "df2.duplicated().sum()"
   ]
  },
  {
   "cell_type": "code",
   "execution_count": null,
   "id": "c7331974-f3fb-4fd6-a6cf-ada74116a4e0",
   "metadata": {},
   "outputs": [],
   "source": [
    "df2['Medal'].value_counts()"
   ]
  },
  {
   "cell_type": "code",
   "execution_count": null,
   "id": "4af72a4d-55d1-4daa-bfed-190afd579984",
   "metadata": {},
   "outputs": [],
   "source": [
    "pd.get_dummies(df2['Medal']).head()"
   ]
  },
  {
   "cell_type": "code",
   "execution_count": 333,
   "id": "b3ea918d-2830-4edd-a78f-c4b48fc75110",
   "metadata": {},
   "outputs": [],
   "source": [
    "df3 = pd.concat([df2, pd.get_dummies(df2['Medal'])], axis = 1)"
   ]
  },
  {
   "cell_type": "code",
   "execution_count": null,
   "id": "067e3088-9f7c-460d-8149-97758fe0d668",
   "metadata": {},
   "outputs": [],
   "source": [
    "df3.head(3)"
   ]
  },
  {
   "cell_type": "code",
   "execution_count": null,
   "id": "716f45bc-498c-49c7-bfb2-2cb4489f02ba",
   "metadata": {},
   "outputs": [],
   "source": [
    "df3.groupby('NOC').sum()[['Gold', 'Silver', 'Bronze']].sort_values('Gold', ascending=False).reset_index().head()"
   ]
  },
  {
   "cell_type": "code",
   "execution_count": null,
   "id": "9d734008-ed6e-44e4-a357-abb1cb627ee2",
   "metadata": {},
   "outputs": [],
   "source": [
    "medal_tally = df3.drop_duplicates(subset= ['Team', 'NOC', 'Games', 'Year', 'City', 'Sport', 'Event', 'Medal'])\n",
    "medal_tally.head()"
   ]
  },
  {
   "cell_type": "code",
   "execution_count": null,
   "id": "8bde35ec-79fd-4237-9328-372539276a42",
   "metadata": {},
   "outputs": [],
   "source": [
    "medal_tally1 = medal_tally.groupby('region').sum()[['Gold', 'Silver', 'Bronze']].sort_values('Gold', ascending=False).reset_index()\n",
    "medal_tally1.head()"
   ]
  },
  {
   "cell_type": "code",
   "execution_count": null,
   "id": "a953007f-6b49-4b66-9535-dd4eee5946a3",
   "metadata": {},
   "outputs": [],
   "source": [
    "medal_tally1['total'] = medal_tally1['Gold'] + medal_tally1['Silver'] + medal_tally1['Bronze'] \n",
    "medal_tally1.head()"
   ]
  },
  {
   "cell_type": "code",
   "execution_count": null,
   "id": "1da90c7b-8b59-4e42-b88f-c9975604aaf4",
   "metadata": {},
   "outputs": [],
   "source": [
    "df3['Year'].unique()"
   ]
  },
  {
   "cell_type": "code",
   "execution_count": 340,
   "id": "569b57b2-3348-4a41-a18d-16636c1dac89",
   "metadata": {},
   "outputs": [],
   "source": [
    "year = df3['Year'].unique().tolist()\n",
    "year.sort()"
   ]
  },
  {
   "cell_type": "code",
   "execution_count": 341,
   "id": "fdd43936-530e-4f78-ae66-8c4c41370b31",
   "metadata": {},
   "outputs": [],
   "source": [
    "year.insert(0, 'Overall')      "
   ]
  },
  {
   "cell_type": "code",
   "execution_count": null,
   "id": "b8f5c975-bee9-4e5a-ada8-1971ac1e1a9d",
   "metadata": {},
   "outputs": [],
   "source": [
    "year"
   ]
  },
  {
   "cell_type": "code",
   "execution_count": 343,
   "id": "1cb99454-3faa-4ed7-bb61-e1747a340004",
   "metadata": {},
   "outputs": [],
   "source": [
    "country = np.unique(df3['region'].dropna().values).tolist()\n",
    "country.sort()"
   ]
  },
  {
   "cell_type": "code",
   "execution_count": 344,
   "id": "6a71c509-5b77-49b1-b727-dce1b51fe4f7",
   "metadata": {},
   "outputs": [],
   "source": [
    "country.insert(0, 'Overall')"
   ]
  },
  {
   "cell_type": "code",
   "execution_count": null,
   "id": "81d11f42-3026-4065-8b0a-2b88ee1934c0",
   "metadata": {},
   "outputs": [],
   "source": [
    "country"
   ]
  },
  {
   "cell_type": "markdown",
   "id": "2c87f6a4-f1bb-4b63-8f96-03e3f4a68db7",
   "metadata": {},
   "source": [
    "## Medal Tally Function"
   ]
  },
  {
   "cell_type": "code",
   "execution_count": 347,
   "id": "b1809392-424b-498a-9bd4-5019e8400027",
   "metadata": {},
   "outputs": [],
   "source": [
    "def fetch_medal_tally(df, year, country):\n",
    "    medal_df = df.drop_duplicates(subset= ['Team', 'NOC', 'Games', 'Year', 'City', 'Sport', 'Event', 'Medal'])\n",
    "    flag = 0\n",
    "    if year == 'Overall' and country == 'Overall':\n",
    "        temp_df = medal_df\n",
    "    if year == 'Overall' and country != 'Overall':\n",
    "        flag = 1\n",
    "        temp_df = medal_df[medal_df['region'] == country]\n",
    "    if year != 'Overall' and country == 'Overall':\n",
    "        temp_df = medal_df[medal_df['Year'] == int(year)]\n",
    "    if year != 'Overall' and country != 'Overall':\n",
    "        temp_df = medal_df[(medal_df['Year'] == int(year)) & (medal_df['region'] == country)]\n",
    "    if flag == 1:\n",
    "        temp_df = temp_df.groupby('Year').sum()[['Gold', 'Silver', 'Bronze']].sort_values('Year').reset_index()\n",
    "    else:\n",
    "        temp_df = temp_df.groupby('region').sum()[['Gold', 'Silver', 'Bronze']].sort_values('Gold', ascending=False).reset_index()\n",
    "        \n",
    "    temp_df['total'] = temp_df['Gold'] + temp_df['Silver'] + temp_df['Bronze'] \n",
    "    print(temp_df)\n",
    "    "
   ]
  },
  {
   "cell_type": "code",
   "execution_count": null,
   "id": "ba11fb6f-6349-4992-8ea3-b7ee21c2bc52",
   "metadata": {},
   "outputs": [],
   "source": [
    "medal_df = df3.drop_duplicates(subset= ['Team', 'NOC', 'Games', 'Year', 'City', 'Sport', 'Event', 'Medal'])\n",
    "medal_df.head() "
   ]
  },
  {
   "cell_type": "code",
   "execution_count": null,
   "id": "cdb10347-f238-4ac8-a5aa-e2305824a410",
   "metadata": {},
   "outputs": [],
   "source": [
    "\n",
    "fetch_medal_tally(df3,'Overall', 'India')\n"
   ]
  },
  {
   "cell_type": "markdown",
   "id": "4402b27e-25ab-456a-b09d-83ec21b70341",
   "metadata": {},
   "source": [
    "### Medal Tally is complete"
   ]
  },
  {
   "cell_type": "markdown",
   "id": "cb746687-8ef2-485b-a9df-43bfabfd2a60",
   "metadata": {},
   "source": [
    "# Overall Analysis start"
   ]
  },
  {
   "cell_type": "code",
   "execution_count": null,
   "id": "ab64a042-652f-4bff-a30d-781df6c22050",
   "metadata": {},
   "outputs": [],
   "source": [
    "# no. of editions\n",
    "df3['Year'].unique().shape[0] -1"
   ]
  },
  {
   "cell_type": "code",
   "execution_count": null,
   "id": "1405d01d-25bd-4085-813c-b64b18418601",
   "metadata": {},
   "outputs": [],
   "source": [
    "# no. of cities\n",
    "df3['City'].unique().shape"
   ]
  },
  {
   "cell_type": "code",
   "execution_count": null,
   "id": "84c9c050-07ba-4abd-87b3-d3945dba21a8",
   "metadata": {},
   "outputs": [],
   "source": [
    "# No. of sports\n",
    "df3['Sport'].unique().shape"
   ]
  },
  {
   "cell_type": "code",
   "execution_count": null,
   "id": "dc263039-e765-43a0-9095-68651bbec6d1",
   "metadata": {},
   "outputs": [],
   "source": [
    "# No. of events\n",
    "df3['Event'].unique().shape"
   ]
  },
  {
   "cell_type": "code",
   "execution_count": null,
   "id": "a3eac7f3-5344-4755-9653-9ba860d25243",
   "metadata": {},
   "outputs": [],
   "source": [
    "# No. of athletes\n",
    "df3['Name'].unique().shape"
   ]
  },
  {
   "cell_type": "code",
   "execution_count": null,
   "id": "131fa1eb-4634-4019-9db6-ae34a195ec55",
   "metadata": {},
   "outputs": [],
   "source": [
    "# participating nations\n",
    "df3['region'].unique().shape[0]"
   ]
  },
  {
   "cell_type": "markdown",
   "id": "65fee07d-d5f9-4068-8109-f928bac82f10",
   "metadata": {},
   "source": [
    "# Plotting"
   ]
  },
  {
   "cell_type": "code",
   "execution_count": null,
   "id": "b7632089-facc-4fbe-9b39-f970fb469b36",
   "metadata": {},
   "outputs": [],
   "source": [
    "nations_over_time = df3.drop_duplicates(['Year', 'region'])['Year'].value_counts().reset_index().sort_values('Year')\n",
    "nations_over_time.head()"
   ]
  },
  {
   "cell_type": "code",
   "execution_count": 360,
   "id": "ad683cb0-17d9-4355-be88-54ac26869605",
   "metadata": {},
   "outputs": [],
   "source": [
    "nations_over_time.rename(columns={'Year':'Edition', 'count':'No. of Countries'}, inplace= True)"
   ]
  },
  {
   "cell_type": "code",
   "execution_count": 361,
   "id": "b5187c40-7a5f-42aa-8071-6847ed97d142",
   "metadata": {},
   "outputs": [],
   "source": [
    "import plotly.express as px"
   ]
  },
  {
   "cell_type": "code",
   "execution_count": null,
   "id": "0f1eb185-80f4-4db9-a61e-b9853349e846",
   "metadata": {},
   "outputs": [],
   "source": [
    "fig = px.line(nations_over_time, x= 'Edition', y= 'No. of Countries')\n",
    "fig.show()"
   ]
  },
  {
   "cell_type": "code",
   "execution_count": null,
   "id": "68c1c6a2-3322-4a65-a03d-72f220797ded",
   "metadata": {},
   "outputs": [],
   "source": [
    "events_over_time = df3.drop_duplicates(['Year', 'Event'])['Year'].value_counts().reset_index().sort_values('Year')\n",
    "events_over_time.rename(columns={'Year':'Edition', 'count':'No. of Events'}, inplace= True)\n",
    "fig = px.line(events_over_time, x= 'Edition', y= 'No. of Events')\n",
    "fig.show()"
   ]
  },
  {
   "cell_type": "code",
   "execution_count": 364,
   "id": "6b90e0de-5473-46e1-bfaa-b63652b22f8b",
   "metadata": {},
   "outputs": [],
   "source": [
    "import seaborn as sns\n",
    "import matplotlib.pyplot as plt"
   ]
  },
  {
   "cell_type": "code",
   "execution_count": null,
   "id": "a09d82cd-0428-4ede-ae77-44645499cf70",
   "metadata": {
    "scrolled": true
   },
   "outputs": [],
   "source": [
    "plt.figure(figsize=(25,25))\n",
    "sns.heatmap(pd.pivot_table(df3, index='Sport', columns='Year', values='Event', aggfunc=pd.Series.nunique).fillna(0).astype('int'), annot = True)"
   ]
  },
  {
   "cell_type": "code",
   "execution_count": 366,
   "id": "fab416e3-416c-4bfb-8940-722af2848286",
   "metadata": {},
   "outputs": [],
   "source": [
    "x = df3.drop_duplicates(['Year','Event','Sport'])"
   ]
  },
  {
   "cell_type": "markdown",
   "id": "de77b66e-a4fa-4d6f-93c4-bd915bd96261",
   "metadata": {},
   "source": [
    "## Successful Athletes in Olympics"
   ]
  },
  {
   "cell_type": "code",
   "execution_count": 368,
   "id": "5f762bec-ee1d-4eea-ad47-a0f1ab21355b",
   "metadata": {},
   "outputs": [],
   "source": [
    "def most_successful(df, sport):\n",
    "    temp_df = df.dropna(subset=['Medal'])\n",
    "\n",
    "    if sport != 'Overall':\n",
    "        temp_df = temp_df[temp_df['Sport'] == sport]\n",
    "    \n",
    "    x = temp_df['Name'].value_counts().reset_index().head(15).merge(df3,left_on='Name',right_on='Name',how='left')[['Name','count','Sport','region']].drop_duplicates('Name')\n",
    "    x.rename(columns={'count':'Medals'}, inplace=True)\n",
    "    return x"
   ]
  },
  {
   "cell_type": "code",
   "execution_count": null,
   "id": "5e18a118-0309-48b6-b158-f1c255bc1bc8",
   "metadata": {},
   "outputs": [],
   "source": [
    "most_successful(df3, 'Overall').head()"
   ]
  },
  {
   "cell_type": "markdown",
   "id": "716f9343-3a00-4437-9689-07db7a8ace2b",
   "metadata": {},
   "source": [
    "# Country-wise Analysis"
   ]
  },
  {
   "cell_type": "markdown",
   "id": "4e3cee1b-2862-4476-8d3b-a76d75e3c778",
   "metadata": {},
   "source": [
    "* Countrywise medal tally per year(line plot)\n",
    "* What countries are good at heamap\n",
    "* most successful athletes (Top 10)"
   ]
  },
  {
   "cell_type": "code",
   "execution_count": 372,
   "id": "5844d00d-6628-4e3e-b3d2-f88d0d7e0d36",
   "metadata": {
    "scrolled": true
   },
   "outputs": [],
   "source": [
    "# those who having nan medal no need\n",
    "temp_df = df3.dropna(subset=['Medal'])\n",
    "temp_df.drop_duplicates(subset=['Team', 'NOC', 'Games', 'Year', 'City', 'Sport', 'Event', 'Medal'], inplace=True)"
   ]
  },
  {
   "cell_type": "code",
   "execution_count": 373,
   "id": "ab7e962c-e48a-4251-b8a9-21210da0741c",
   "metadata": {},
   "outputs": [],
   "source": [
    "new_df = temp_df[temp_df['region']=='USA']\n",
    "final_df = new_df.groupby('Year').count()['Medal'].reset_index()"
   ]
  },
  {
   "cell_type": "code",
   "execution_count": null,
   "id": "816660a3-f9ca-4c9c-ae77-e8a7b71780b9",
   "metadata": {},
   "outputs": [],
   "source": [
    "fig = px.line(final_df, x= 'Year', y= 'Medal')\n",
    "fig.show()"
   ]
  },
  {
   "cell_type": "markdown",
   "id": "e7ac6ca3-ff1a-4920-a9e5-6172c981a4f5",
   "metadata": {},
   "source": [
    "# Now we are creating a heatmap for seeing which country is good in which sport"
   ]
  },
  {
   "cell_type": "code",
   "execution_count": null,
   "id": "e6ee3693-caef-4ec6-a030-4f06a798c3ff",
   "metadata": {},
   "outputs": [],
   "source": [
    "# For particular countrywise sport\n",
    "new_df = temp_df[temp_df['region']=='USA']\n",
    "plt.figure(figsize=(20,25))\n",
    "sns.heatmap(new_df.pivot_table(index='Sport', columns='Year', values='Medal', aggfunc='count').fillna(0), annot=True)"
   ]
  },
  {
   "cell_type": "code",
   "execution_count": null,
   "id": "673570a4-6e8a-47f8-9c15-354d02837015",
   "metadata": {},
   "outputs": [],
   "source": [
    "# For overall sport\n",
    "pt = temp_df.pivot_table(index='Sport', columns='Year', values='Medal', fill_value=0, aggfunc='count')\n",
    "plt.figure(figsize=(20,25))\n",
    "sns.heatmap(pt, annot = True, fmt=\".1f\")"
   ]
  },
  {
   "cell_type": "code",
   "execution_count": null,
   "id": "4a9467f6-1a5b-4216-8f32-540201228521",
   "metadata": {},
   "outputs": [],
   "source": [
    "\n",
    "region_grouped = temp_df.groupby('region').count().reset_index().head(134)\n",
    "pd.set_option('display.max_rows', 134)\n",
    "region_grouped.head(134)\n",
    "# region_grouped[region_grouped['region'] == 'Albania']\n",
    "# many regions dont have any value so by hardcore values i am removing them from list & passing only valid regions\n",
    "region_list = region_grouped['region'].dropna().unique().tolist()\n",
    "region_list"
   ]
  },
  {
   "cell_type": "markdown",
   "id": "8ccf0f8f-38a9-4da9-99f6-77509cd15e49",
   "metadata": {},
   "source": [
    "# Most Successful Players in a country"
   ]
  },
  {
   "cell_type": "code",
   "execution_count": 380,
   "id": "9f656b4a-1d49-4cb4-8dbd-ccfec9e4967c",
   "metadata": {},
   "outputs": [],
   "source": [
    "def most_successful(df, country):\n",
    "    temp_df = df.dropna(subset=['Medal'])\n",
    "\n",
    "    if country != 'Overall':\n",
    "        temp_df = temp_df[temp_df['region'] == country]\n",
    "    x = temp_df['Name'].value_counts().reset_index().head(10).merge(df, left_on='Name', right_on='Name', how='left')[\n",
    "        ['Name', 'count', 'Sport']].drop_duplicates('Name')\n",
    "\n",
    "    x.rename(columns={'count': 'Medals'}, inplace=True)\n",
    "    return x"
   ]
  },
  {
   "cell_type": "code",
   "execution_count": null,
   "id": "814ac9f1-4793-4e0c-91fe-278bc20ff69e",
   "metadata": {},
   "outputs": [],
   "source": [
    "most_successful(df3, 'Jamaica')"
   ]
  },
  {
   "cell_type": "markdown",
   "id": "f4577b3f-8c6b-4536-9d1e-00ce6d48ecdf",
   "metadata": {},
   "source": [
    "# Athlete-wise Analysis"
   ]
  },
  {
   "cell_type": "code",
   "execution_count": null,
   "id": "5c6ea06a-0381-4521-b59b-1b528e9c00a4",
   "metadata": {},
   "outputs": [],
   "source": [
    "df3.head()"
   ]
  },
  {
   "cell_type": "code",
   "execution_count": 384,
   "id": "0ea6895a-69a2-4344-9d0d-1fc333f420fa",
   "metadata": {},
   "outputs": [],
   "source": [
    "# we have duplicate athlete names since they played for multiple times\n",
    "athlete_df = df3.drop_duplicates(subset= ['Name', 'region'])"
   ]
  },
  {
   "cell_type": "code",
   "execution_count": null,
   "id": "3baf1a79-2ae3-49aa-894c-3c2478e61000",
   "metadata": {},
   "outputs": [],
   "source": [
    "# dropping missing age na values\n",
    "athlete_df['Age'].dropna()"
   ]
  },
  {
   "cell_type": "code",
   "execution_count": 386,
   "id": "65ce0f38-bb45-4bb0-a9be-d93913b1d368",
   "metadata": {},
   "outputs": [],
   "source": [
    "import plotly.figure_factory as ff"
   ]
  },
  {
   "cell_type": "markdown",
   "id": "ab8c6fbb-e9b1-49cc-80fe-d8454ea2280c",
   "metadata": {},
   "source": [
    "## Age Distribution"
   ]
  },
  {
   "cell_type": "code",
   "execution_count": 388,
   "id": "fb295164-4fd4-403b-9023-903a15b9efc9",
   "metadata": {},
   "outputs": [],
   "source": [
    "x1 = athlete_df['Age'].dropna()\n",
    "x2 = athlete_df[athlete_df['Medal']=='Gold']['Age'].dropna()\n",
    "x3 = athlete_df[athlete_df['Medal']=='Silver']['Age'].dropna()\n",
    "x4 = athlete_df[athlete_df['Medal']=='Bronze']['Age'].dropna()\n"
   ]
  },
  {
   "cell_type": "code",
   "execution_count": null,
   "id": "d9e6e496-e21f-435a-bc43-089e54c50b68",
   "metadata": {},
   "outputs": [],
   "source": [
    "fig = ff.create_distplot([x1,x2,x3,x4], ['Overall Age','Gold Medalist','Silver Medalist','Bronze Medalist'], show_hist=False, show_rug=False)\n",
    "fig.show()"
   ]
  },
  {
   "cell_type": "code",
   "execution_count": null,
   "id": "752eafdd-499c-41f8-96ed-23a79dd691ab",
   "metadata": {},
   "outputs": [],
   "source": [
    "x = []\n",
    "name = []\n",
    "famous_sports = ['Basketball', 'Judo', 'Football', 'Tug-Of-War', 'Athletics',\n",
    "                     'Swimming', 'Badminton', 'Sailing', 'Gymnastics',\n",
    "                     'Art Competitions', 'Handball', 'Weightlifting', 'Wrestling',\n",
    "                     'Water Polo', 'Hockey', 'Rowing', 'Fencing',\n",
    "                     'Shooting', 'Boxing', 'Taekwondo', 'Cycling', 'Diving', 'Canoeing',\n",
    "                     'Tennis', 'Golf', 'Softball', 'Archery',\n",
    "                     'Volleyball', 'Synchronized Swimming', 'Table Tennis', 'Baseball',\n",
    "                     'Rhythmic Gymnastics', 'Rugby Sevens',\n",
    "                     'Beach Volleyball', 'Triathlon', 'Rugby', 'Polo',\n",
    "                     'Ice Hockey']\n",
    "\n",
    "for sport in famous_sports:\n",
    "    temp_df = athlete_df[athlete_df['Sport'] == sport]\n",
    "    x.append(temp_df[temp_df['Medal'] == 'Gold']['Age'].dropna())     \n",
    "    name.append(sport)      \n",
    "\n",
    "fig = ff.create_distplot(x, name, show_hist=False, show_rug=False)\n",
    "fig.update_layout(autosize= False, width=1000, height=600)\n",
    "fig.show()"
   ]
  },
  {
   "cell_type": "markdown",
   "id": "c8c4b9b7-73c0-42be-9fa3-1a218cef2f0b",
   "metadata": {},
   "source": [
    "## Height vs Weight plot"
   ]
  },
  {
   "cell_type": "code",
   "execution_count": 392,
   "id": "60189cb4-8276-4ef3-9b1b-0989c7238990",
   "metadata": {},
   "outputs": [],
   "source": [
    "athlete_df['Medal'].fillna('No Medal', inplace=True)"
   ]
  },
  {
   "cell_type": "code",
   "execution_count": null,
   "id": "c3494e55-ecb7-4b8c-b922-7088eae88df5",
   "metadata": {},
   "outputs": [],
   "source": [
    "plt.figure(figsize=(10,10))\n",
    "temp_df = athlete_df[athlete_df['Sport'] == 'Athletics']\n",
    "\n",
    "sns.scatterplot(x=temp_df['Weight'], y=temp_df['Height'], hue=temp_df['Medal'], style=temp_df['Sex'], s=100)"
   ]
  },
  {
   "cell_type": "code",
   "execution_count": 394,
   "id": "aef8bc19-be7a-499e-b487-bca471594f21",
   "metadata": {},
   "outputs": [],
   "source": [
    "men = athlete_df[athlete_df['Sex'] == 'M'].groupby('Year').count()['Name'].reset_index()\n",
    "women = athlete_df[athlete_df['Sex'] == 'F'].groupby('Year').count()['Name'].reset_index()"
   ]
  },
  {
   "cell_type": "code",
   "execution_count": null,
   "id": "bcb07087-9aa7-49d2-ba4c-776ea8c10879",
   "metadata": {},
   "outputs": [],
   "source": [
    "final = men.merge(women, on= 'Year', how='left')\n",
    "final.rename(columns={'Name_x':'Male', 'Name_y':'Female'}, inplace=True)\n",
    "final.head()"
   ]
  },
  {
   "cell_type": "code",
   "execution_count": null,
   "id": "dfff64e8-7d53-4b67-bd03-3b2aa4f95c50",
   "metadata": {},
   "outputs": [],
   "source": [
    "final.fillna(0, inplace=True)\n",
    "final.head()"
   ]
  },
  {
   "cell_type": "code",
   "execution_count": null,
   "id": "8835940d-0eef-4dc0-9f43-12aa484c2361",
   "metadata": {},
   "outputs": [],
   "source": [
    "fig = px.line(final, x= 'Year', y = ['Male', 'Female'])\n",
    "fig.show()"
   ]
  },
  {
   "cell_type": "code",
   "execution_count": null,
   "id": "83f96277-4d35-43e7-9aa6-69456711a320",
   "metadata": {},
   "outputs": [],
   "source": []
  }
 ],
 "metadata": {
  "kernelspec": {
   "display_name": "Python 3",
   "language": "python",
   "name": "python3"
  },
  "language_info": {
   "codemirror_mode": {
    "name": "ipython",
    "version": 3
   },
   "file_extension": ".py",
   "mimetype": "text/x-python",
   "name": "python",
   "nbconvert_exporter": "python",
   "pygments_lexer": "ipython3",
   "version": "3.11.4"
  }
 },
 "nbformat": 4,
 "nbformat_minor": 5
}
